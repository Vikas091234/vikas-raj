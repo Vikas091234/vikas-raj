{
  "nbformat": 4,
  "nbformat_minor": 0,
  "metadata": {
    "colab": {
      "provenance": [],
      "mount_file_id": "1CjAqE0LTVhvRAwjoiiPJvJXyA9pW9zIU",
      "authorship_tag": "ABX9TyNKpZRngB2c7mMNJ4KQf/um",
      "include_colab_link": true
    },
    "kernelspec": {
      "name": "python3",
      "display_name": "Python 3"
    },
    "language_info": {
      "name": "python"
    }
  },
  "cells": [
    {
      "cell_type": "markdown",
      "metadata": {
        "id": "view-in-github",
        "colab_type": "text"
      },
      "source": [
        "<a href=\"https://colab.research.google.com/github/Vikas091234/vikas-raj/blob/main/Untitled1.ipynb\" target=\"_parent\"><img src=\"https://colab.research.google.com/assets/colab-badge.svg\" alt=\"Open In Colab\"/></a>"
      ]
    },
    {
      "cell_type": "code",
      "execution_count": null,
      "metadata": {
        "id": "AAQsZugEMgOW"
      },
      "outputs": [],
      "source": []
    },
    {
      "cell_type": "code",
      "source": [
        "a= int(input(\" enter a integer :\"))\n",
        "b= int(input(\" enter a integer :\"))\n",
        "print(a+b)\n",
        "print(a*b)\n",
        "print(a/b)\n",
        "print(a%b)"
      ],
      "metadata": {
        "colab": {
          "base_uri": "https://localhost:8080/"
        },
        "id": "u_w8zfC-Nf_h",
        "outputId": "6b788eb7-900f-4e12-87a8-1a2dba8d85e0"
      },
      "execution_count": null,
      "outputs": [
        {
          "output_type": "stream",
          "name": "stdout",
          "text": [
            " enter a integer :5\n",
            " enter a integer :6\n",
            "11\n",
            "30\n",
            "0.8333333333333334\n",
            "5\n"
          ]
        }
      ]
    },
    {
      "cell_type": "code",
      "source": [],
      "metadata": {
        "id": "u4yoMnT8N7df"
      },
      "execution_count": null,
      "outputs": []
    },
    {
      "cell_type": "code",
      "source": [
        "print(\"Hello World Welcome to Python\")"
      ],
      "metadata": {
        "colab": {
          "base_uri": "https://localhost:8080/"
        },
        "id": "7o245BMRMj5J",
        "outputId": "b39c299c-5612-40d1-d28f-92109e54cbf6"
      },
      "execution_count": null,
      "outputs": [
        {
          "output_type": "stream",
          "name": "stdout",
          "text": [
            "Hello World Welcome to Python\n"
          ]
        }
      ]
    },
    {
      "cell_type": "code",
      "source": [
        "name =input(\"WHats your name?\")\n",
        "print(\"Welcome \" + name + \"!\")"
      ],
      "metadata": {
        "colab": {
          "base_uri": "https://localhost:8080/"
        },
        "id": "d97E_CicMxjY",
        "outputId": "b2c7407a-2a2d-4243-a4eb-812d3b78b631"
      },
      "execution_count": null,
      "outputs": [
        {
          "output_type": "stream",
          "name": "stdout",
          "text": [
            "WHats your name?h\n",
            "Welcome h!\n"
          ]
        }
      ]
    },
    {
      "cell_type": "code",
      "source": [
        "num = int(input(\" enter a positive integer:\"))\n",
        "for i in range(1,11i sam using ):\n",
        "        print(num,\"X\",i,\"=\",num*i )"
      ],
      "metadata": {
        "colab": {
          "base_uri": "https://localhost:8080/"
        },
        "id": "ia_PGj3hN9nd",
        "outputId": "d6f70629-30ff-487f-f99e-7c03c6ae5ed5"
      },
      "execution_count": null,
      "outputs": [
        {
          "output_type": "stream",
          "name": "stdout",
          "text": [
            " enter a positive integer:5\n",
            "5 X 1 = 5\n",
            "5 X 2 = 10\n",
            "5 X 3 = 15\n",
            "5 X 4 = 20\n",
            "5 X 5 = 25\n",
            "5 X 6 = 30\n",
            "5 X 7 = 35\n",
            "5 X 8 = 40\n",
            "5 X 9 = 45\n",
            "5 X 10 = 50\n"
          ]
        }
      ]
    },
    {
      "cell_type": "code",
      "source": [
        "from pickle import APPEND\n",
        "marks= [80,70,99,89,87,67,95,57]\n",
        "marks= sorted(marks)\n",
        "print(\"Marks List:\",marks)\n",
        "print(\"Highest Marks:\",marks[-1])\n",
        "print(\"Lowest Marks:\",marks[0])\n",
        "avg= sum(marks)/len(marks)\n",
        "print(\"Average Marks:\",avg)\n",
        "print(max(marks))\n",
        "marks.append(35)\n",
        "marks[3]=78\n",
        "print(marks)"
      ],
      "metadata": {
        "colab": {
          "base_uri": "https://localhost:8080/"
        },
        "id": "cUA2GXELV1NM",
        "outputId": "cb94b93b-3285-4718-9e01-37e66f7b3264"
      },
      "execution_count": null,
      "outputs": [
        {
          "output_type": "stream",
          "name": "stdout",
          "text": [
            "Marks List: [57, 67, 70, 80, 87, 89, 95, 99]\n",
            "Highest Marks: 99\n",
            "Lowest Marks: 57\n",
            "Average Marks: 80.5\n",
            "99\n",
            "[57, 67, 70, 78, 87, 89, 95, 99, 35]\n"
          ]
        }
      ]
    },
    {
      "cell_type": "code",
      "source": [],
      "metadata": {
        "id": "xMV28Zh2x80t"
      },
      "execution_count": null,
      "outputs": []
    },
    {
      "cell_type": "code",
      "source": [
        "marks = [80, 70, 99, 89, 87, 67, 95, 57, 35]\n",
        "\n",
        "for i in marks:\n",
        "  if i>82:\n",
        "\n",
        "     print(\"Marks:\",i)\n",
        "for i in range(len(marks)):\n",
        "    print(f\"Subject {i+1}: {marks[i]}\")\n",
        "total= 0\n",
        "for i in marks:\n",
        "  total+=i\n",
        "  avg= total/len(marks)\n",
        "print(\"Total Marks:\",total)\n",
        "print(\"Average Marks:\",avg)\n"
      ],
      "metadata": {
        "colab": {
          "base_uri": "https://localhost:8080/"
        },
        "id": "LPcjTw2EWsU1",
        "outputId": "5ece24bb-0e61-423c-835d-92bd27339ac6"
      },
      "execution_count": null,
      "outputs": [
        {
          "output_type": "stream",
          "name": "stdout",
          "text": [
            "Marks: 99\n",
            "Marks: 89\n",
            "Marks: 87\n",
            "Marks: 95\n",
            "Subject 1: 80\n",
            "Subject 2: 70\n",
            "Subject 3: 99\n",
            "Subject 4: 89\n",
            "Subject 5: 87\n",
            "Subject 6: 67\n",
            "Subject 7: 95\n",
            "Subject 8: 57\n",
            "Subject 9: 35\n",
            "Total Marks: 679\n",
            "Average Marks: 75.44444444444444\n"
          ]
        }
      ]
    },
    {
      "cell_type": "code",
      "source": [
        "marks = [80, 70, 99, 89, 87, 67, 95, 57, 35]\n",
        "count=0\n",
        "for i in marks:\n",
        "  if i>82:\n",
        "    count+=1\n",
        "print(count)\n",
        "a=[]\n",
        "for i in marks:\n",
        "  if i>75:\n",
        "     a.append(i)\n",
        "a.sort()\n",
        "print(a)"
      ],
      "metadata": {
        "colab": {
          "base_uri": "https://localhost:8080/"
        },
        "id": "v5LbNPkqx_Xg",
        "outputId": "6f036f53-fc92-4b33-9c50-7e67edb0c1c9"
      },
      "execution_count": null,
      "outputs": [
        {
          "output_type": "stream",
          "name": "stdout",
          "text": [
            "4\n",
            "[80, 87, 89, 95, 99]\n"
          ]
        }
      ]
    },
    {
      "cell_type": "code",
      "source": [
        "def greet():\n",
        "    print(\"Hello! Welcome to Python functions.\")\n",
        "\n",
        "greet()\n"
      ],
      "metadata": {
        "colab": {
          "base_uri": "https://localhost:8080/"
        },
        "id": "OAzS7PF4zn0W",
        "outputId": "8f03cf92-ffe6-4b4d-891f-2e96585d6592"
      },
      "execution_count": null,
      "outputs": [
        {
          "output_type": "stream",
          "name": "stdout",
          "text": [
            "Hello! Welcome to Python functions.\n"
          ]
        }
      ]
    },
    {
      "cell_type": "code",
      "source": [
        "def square():\n",
        "  square=num*num\n",
        "  return square\n",
        "num= int(input(\"enter a number:\"))\n",
        "square=square(num)\n",
        "print(square)"
      ],
      "metadata": {
        "colab": {
          "base_uri": "https://localhost:8080/"
        },
        "id": "NjSZHDF_0Di4",
        "outputId": "62a83e4d-3997-4e6c-ac4d-e1edb1044d04"
      },
      "execution_count": null,
      "outputs": [
        {
          "output_type": "stream",
          "name": "stdout",
          "text": [
            "enter a number:5\n",
            "25\n"
          ]
        }
      ]
    },
    {
      "cell_type": "code",
      "source": [
        "def add(a,b):\n",
        "  return a+b\n",
        "a= int(input(\"enter a number:\"))\n",
        "b= int(input(\"enter a number:\"))\n",
        "sum=add(a,b)\n",
        "print(sum)"
      ],
      "metadata": {
        "colab": {
          "base_uri": "https://localhost:8080/"
        },
        "id": "qTtsVU_81X26",
        "outputId": "26691263-8008-4c88-d253-114ca185a715"
      },
      "execution_count": null,
      "outputs": [
        {
          "output_type": "stream",
          "name": "stdout",
          "text": [
            "enter a number:5\n",
            "enter a number:6\n",
            "11\n"
          ]
        }
      ]
    },
    {
      "cell_type": "code",
      "source": [
        "def even_checker(num):\n",
        "    if num % 2 == 0:\n",
        "        return True\n",
        "    else:\n",
        "        return False\n",
        "\n",
        "num = int(input(\"Enter a number: \"))\n",
        "print(\"The entered number is even:\", even_checker(num))\n",
        "\n",
        "\n"
      ],
      "metadata": {
        "colab": {
          "base_uri": "https://localhost:8080/"
        },
        "id": "Ht9B_HaQ1lEN",
        "outputId": "177e62ca-9049-42f3-dfc7-936ff073b6d9"
      },
      "execution_count": null,
      "outputs": [
        {
          "output_type": "stream",
          "name": "stdout",
          "text": [
            "Enter a number: 5\n",
            "The entered number is even: False\n"
          ]
        }
      ]
    },
    {
      "cell_type": "code",
      "source": [
        "def get_grade(marks):\n",
        "    if marks >= 90:\n",
        "        return \"A\"\n",
        "    elif marks >= 80:\n",
        "        return \"B\"\n",
        "    elif marks >= 70:\n",
        "        return \"C\"\n",
        "    elif marks >= 60:\n",
        "        return \"D\"\n",
        "    else:\n",
        "        return \"F\"\n",
        "\n",
        "marks = int(input(\"Enter your marks: \"))\n",
        "grade = get_grade(marks)\n",
        "print(\"Your grade is:\", grade)"
      ],
      "metadata": {
        "colab": {
          "base_uri": "https://localhost:8080/"
        },
        "id": "t5VeQYFp2sOL",
        "outputId": "341006a3-78c6-47a1-cac3-a421401af0a5"
      },
      "execution_count": null,
      "outputs": [
        {
          "output_type": "stream",
          "name": "stdout",
          "text": [
            "Enter your marks: 57\n",
            "Your grade is: F\n"
          ]
        }
      ]
    },
    {
      "cell_type": "code",
      "source": [
        "def filter_even(numbers):\n",
        "  even_number=[]\n",
        "  for i in numbers:\n",
        "    if i %2==0:\n",
        "      even_number.append(i)\n",
        "  return even_number\n",
        "numbers=[1,2,3,4,5,6,7,8,9,10]\n",
        "even_number=filter_even(numbers)\n",
        "print(even_number)"
      ],
      "metadata": {
        "colab": {
          "base_uri": "https://localhost:8080/"
        },
        "id": "-9wMhHwW3HgW",
        "outputId": "fd9b929b-a95e-4b6f-b4d9-19e85cd87200"
      },
      "execution_count": null,
      "outputs": [
        {
          "output_type": "stream",
          "name": "stdout",
          "text": [
            "[2, 4, 6, 8, 10]\n"
          ]
        }
      ]
    },
    {
      "cell_type": "code",
      "source": [
        "list=[]\n",
        "i=0\n",
        "while True:\n",
        "  a=int(input(\"Enter the entries of the list:/ enter -100 if all the entries have been entered\"))\n",
        "  list.append(a)\n",
        "  if a==-100:\n",
        "    break\n",
        "list.sort()\n",
        "Top_3=list[-3:]\n",
        "print(Top_3)"
      ],
      "metadata": {
        "colab": {
          "base_uri": "https://localhost:8080/"
        },
        "id": "vlyWOnma4bsY",
        "outputId": "5ffff9d0-c8b9-437c-8add-4faae411a01c"
      },
      "execution_count": null,
      "outputs": [
        {
          "output_type": "stream",
          "name": "stdout",
          "text": [
            "Enter the entries of the list:/ enter -100 if all the entries have been entered45\n",
            "Enter the entries of the list:/ enter -100 if all the entries have been entered15\n",
            "Enter the entries of the list:/ enter -100 if all the entries have been entered56\n",
            "Enter the entries of the list:/ enter -100 if all the entries have been entered68\n",
            "Enter the entries of the list:/ enter -100 if all the entries have been entered52\n",
            "Enter the entries of the list:/ enter -100 if all the entries have been entered86\n",
            "Enter the entries of the list:/ enter -100 if all the entries have been entered79\n",
            "Enter the entries of the list:/ enter -100 if all the entries have been entered47\n",
            "Enter the entries of the list:/ enter -100 if all the entries have been entered15\n",
            "Enter the entries of the list:/ enter -100 if all the entries have been entered35\n",
            "Enter the entries of the list:/ enter -100 if all the entries have been entered54\n",
            "Enter the entries of the list:/ enter -100 if all the entries have been entered15\n",
            "Enter the entries of the list:/ enter -100 if all the entries have been entered25\n",
            "Enter the entries of the list:/ enter -100 if all the entries have been entered56\n",
            "Enter the entries of the list:/ enter -100 if all the entries have been entered58\n",
            "Enter the entries of the list:/ enter -100 if all the entries have been entered5455255\n",
            "Enter the entries of the list:/ enter -100 if all the entries have been entered-100\n",
            "[79, 86, 5455255]\n"
          ]
        }
      ]
    },
    {
      "cell_type": "code",
      "source": [
        "def count_vowels(string):\n",
        "  vowels=\"aeiou\"\n",
        "  count=0\n",
        "  for i in string:\n",
        "    if i in vowels:\n",
        "      count+=1\n",
        "  return count\n",
        "string=input(\"enter a string:\").lower()\n",
        "count=count_vowels(string)\n",
        "print(count)"
      ],
      "metadata": {
        "colab": {
          "base_uri": "https://localhost:8080/"
        },
        "id": "O7MepfIY7BdO",
        "outputId": "6434c7a0-fd27-435b-dcc2-09e50e9a48c1"
      },
      "execution_count": null,
      "outputs": [
        {
          "output_type": "stream",
          "name": "stdout",
          "text": [
            "enter a string:Hi I am Vikas Raj, I am studying in IITM , its been a really fun coding till now \n",
            "24\n"
          ]
        }
      ]
    },
    {
      "cell_type": "markdown",
      "source": [],
      "metadata": {
        "id": "0LlGl1K5zpOU"
      }
    },
    {
      "cell_type": "code",
      "source": [
        "def Five_multiples(num):\n",
        "  list=[]\n",
        "  for i in range(1,6):\n",
        "    a=i*num\n",
        "    list.append(a)\n",
        "  return list\n",
        "num=int(input(\"Enter a number: \"))\n",
        "print(Five_multiples(num))"
      ],
      "metadata": {
        "colab": {
          "base_uri": "https://localhost:8080/"
        },
        "id": "zHRirN6d8I8f",
        "outputId": "0bc1274e-5558-44a7-9559-420ee3443d4f"
      },
      "execution_count": null,
      "outputs": [
        {
          "output_type": "stream",
          "name": "stdout",
          "text": [
            "Enter a number: 5\n",
            "[5, 10, 15, 20, 25]\n"
          ]
        }
      ]
    },
    {
      "cell_type": "code",
      "source": [
        "greatings = \"hello\"\n",
        "name=\"world\"\n",
        "print(greatings+\" \"+ name)\n",
        "message = f\"{greatings} {name}\"\n",
        "print(message[2:8])"
      ],
      "metadata": {
        "colab": {
          "base_uri": "https://localhost:8080/"
        },
        "id": "a03gpSFqvPH4",
        "outputId": "7d827c02-6a1a-4903-ac19-f5591398b055"
      },
      "execution_count": 2,
      "outputs": [
        {
          "output_type": "stream",
          "name": "stdout",
          "text": [
            "hello world\n",
            "llo wo\n"
          ]
        }
      ]
    },
    {
      "cell_type": "code",
      "source": [
        "text=\"I love timepass i do it a lot \"\n",
        "print(text)\n",
        "print(text.count(\"i\"))\n",
        "print(text.lower())\n",
        "print(text.upper())\n",
        "print(text.title())\n",
        "print(text.replace(\"love\",\"hate\"))\n",
        "print(text.find(\"timepass\"))\n",
        "print(\"do\" in text)\n",
        "print(text.split())\n",
        "print(text.strip())"
      ],
      "metadata": {
        "colab": {
          "base_uri": "https://localhost:8080/"
        },
        "id": "62UzrqJLvWYs",
        "outputId": "0b3a2e28-662b-43ea-ea11-28540e44475b"
      },
      "execution_count": 7,
      "outputs": [
        {
          "output_type": "stream",
          "name": "stdout",
          "text": [
            "I love timepass i do it a lot \n",
            "3\n",
            "i love timepass i do it a lot \n",
            "I LOVE TIMEPASS I DO IT A LOT \n",
            "I Love Timepass I Do It A Lot \n",
            "I hate timepass i do it a lot \n",
            "7\n",
            "True\n",
            "['I', 'love', 'timepass', 'i', 'do', 'it', 'a', 'lot']\n",
            "I love timepass i do it a lot\n"
          ]
        }
      ]
    },
    {
      "cell_type": "code",
      "source": [
        "sentence = \" I am learning Python today\"\n",
        "print(sentence)\n",
        "sentence.upper()\n",
        "print(sentence.upper())\n",
        "sentence.replace(\"today\",\"now\")\n",
        "print(sentence.replace(\"today\",\"now\"))"
      ],
      "metadata": {
        "colab": {
          "base_uri": "https://localhost:8080/"
        },
        "id": "P6AVx-KVxc0B",
        "outputId": "b06534be-569a-4141-9a93-5bbd3eb47b44"
      },
      "execution_count": 9,
      "outputs": [
        {
          "output_type": "stream",
          "name": "stdout",
          "text": [
            " I am learning Python today\n",
            " I AM LEARNING PYTHON TODAY\n",
            " I am learning Python now\n"
          ]
        }
      ]
    },
    {
      "cell_type": "code",
      "source": [
        "def palindrome(string):\n",
        "  if string==string[::-1]:\n",
        "    return True\n",
        "  else:\n",
        "    return False\n",
        "string=input(\"enter a string :\")\n",
        "\n",
        "string=string.lower()\n",
        "print(string)\n",
        "print(\"your string is a palindrome:\", palindrome(string))\n",
        "\n"
      ],
      "metadata": {
        "colab": {
          "base_uri": "https://localhost:8080/"
        },
        "id": "VyydjcS_yIsP",
        "outputId": "d8ff3562-9580-427d-d419-8466e81bccec"
      },
      "execution_count": 27,
      "outputs": [
        {
          "output_type": "stream",
          "name": "stdout",
          "text": [
            "enter a string :1234321\n",
            "1234321\n",
            "your string is a palindrome: True\n"
          ]
        }
      ]
    },
    {
      "cell_type": "code",
      "source": [
        "student={\n",
        "    \"name\":\"Arnav\", \"age\":\"23\",\n",
        "    \"marks\":[86,76,98],\"is_passed\": True\n",
        "}\n",
        "print(student[\"name\"])\n",
        "print(student[\"marks\"][2])\n",
        "\n",
        "student[\"college\"]= \"IITMadras\"\n",
        "student[\"age\"]= \"25\"\n",
        "del student[\"is_passed\"]\n",
        "for key, value in student.items():\n",
        "    print(key,\":\",value)"
      ],
      "metadata": {
        "colab": {
          "base_uri": "https://localhost:8080/"
        },
        "id": "Y1N9gyrJl5YI",
        "outputId": "e2abd7a8-31ed-44b3-b2f4-c5082b6bb928"
      },
      "execution_count": 3,
      "outputs": [
        {
          "output_type": "stream",
          "name": "stdout",
          "text": [
            "Arnav\n",
            "98\n",
            "name : Arnav\n",
            "age : 25\n",
            "marks : [86, 76, 98]\n",
            "college : IITMadras\n"
          ]
        }
      ]
    },
    {
      "cell_type": "code",
      "source": [
        "myself={ \"name\":\"Vikas\", \"branch\":\"electrical engineering\",\"skills\":[\"python\",\"DSA\",\"ML\"]\n",
        "\n",
        "\n",
        "}\n",
        "myself[\"goal\"]=\"To be happy\"\n",
        "print(\"keys\")\n",
        "for key in myself.keys():\n",
        "  print(key)\n",
        "print(\"values\")\n",
        "for value in myself.values():\n",
        "  print(value)\n",
        "\n",
        "for key, value in myself.items():\n",
        "  print(key,\":\",value)"
      ],
      "metadata": {
        "colab": {
          "base_uri": "https://localhost:8080/"
        },
        "id": "vz7rT1YOmABz",
        "outputId": "0859657f-c73d-4951-c1e6-a1d176a7858c"
      },
      "execution_count": 10,
      "outputs": [
        {
          "output_type": "stream",
          "name": "stdout",
          "text": [
            "keys\n",
            "name\n",
            "branch\n",
            "skills\n",
            "goal\n",
            "values\n",
            "Vikas\n",
            "electrical engineering\n",
            "['python', 'DSA', 'ML']\n",
            "To be happy\n",
            "name : Vikas\n",
            "branch : electrical engineering\n",
            "skills : ['python', 'DSA', 'ML']\n",
            "goal : To be happy\n"
          ]
        }
      ]
    },
    {
      "cell_type": "code",
      "source": [
        "sentence = input(\"enter a string : \")\n",
        "words = sentence.split()\n",
        "word_count={}\n",
        "\n",
        "for word in words:\n",
        "  if word in word_count:\n",
        "    word_count[word]+=1\n",
        "  else:\n",
        "    word_count[word]=1\n",
        "print(word_count)"
      ],
      "metadata": {
        "colab": {
          "base_uri": "https://localhost:8080/"
        },
        "id": "A46E9HicqSIi",
        "outputId": "d3139aab-c337-417d-c065-39c7fe82781d"
      },
      "execution_count": 11,
      "outputs": [
        {
          "output_type": "stream",
          "name": "stdout",
          "text": [
            "enter a string : Hi I am Vikas , I am doing B.Tech from IITMadras , I like playing cricket watchin football, my favorate food is biriyani , my go to food is dal rice , \n",
            "{'Hi': 1, 'I': 3, 'am': 2, 'Vikas': 1, ',': 4, 'doing': 1, 'B.Tech': 1, 'from': 1, 'IITMadras': 1, 'like': 1, 'playing': 1, 'cricket': 1, 'watchin': 1, 'football,': 1, 'my': 2, 'favorate': 1, 'food': 2, 'is': 2, 'biriyani': 1, 'go': 1, 'to': 1, 'dal': 1, 'rice': 1}\n"
          ]
        }
      ]
    },
    {
      "cell_type": "code",
      "source": [
        "def word_counter(words):\n",
        "  word_count={}\n",
        "  for word in words :\n",
        "    if word in word_count :\n",
        "      word_count[word]+=1\n",
        "    else:\n",
        "      word_count[word]=1\n",
        "  return word_count\n",
        "sentence=input(\"enter a string :\")\n",
        "words=sentence.split()\n",
        "print(word_counter(words))"
      ],
      "metadata": {
        "colab": {
          "base_uri": "https://localhost:8080/"
        },
        "id": "0uPRWR3erc-7",
        "outputId": "d8174860-12a0-4427-9012-cdfe2217a367"
      },
      "execution_count": 22,
      "outputs": [
        {
          "output_type": "stream",
          "name": "stdout",
          "text": [
            "enter a string :5\n",
            "{'5': 1}\n"
          ]
        }
      ]
    },
    {
      "cell_type": "code",
      "source": [
        "\n",
        "def linear_search(arr,target):\n",
        "  for i in range(len(arr)):\n",
        "    if arr[i]== target:\n",
        "      return i\n",
        "  return -1\n",
        "\n",
        "arr=[]\n",
        "while True:\n",
        "  a=int(input(\"enter a +ve integer  or enter -1 to end the list:\"))\n",
        "\n",
        "  if a==-1:\n",
        "    break\n",
        "  if a in arr:\n",
        "    print(\"Element already exists\")\n",
        "    continue\n",
        "  arr.append(a)\n",
        "target =int(input(\"enter the element you  want to find\"))\n",
        "index = linear_search(arr,target)\n",
        "if index == -1:\n",
        "  print(\"Element is not found\")\n",
        "else:\n",
        "  print(\"Element is found at index\",index)"
      ],
      "metadata": {
        "colab": {
          "base_uri": "https://localhost:8080/"
        },
        "id": "W2Aw7V7IuPpI",
        "outputId": "45252db4-19ca-44c2-c931-c9c6d91d7d28"
      },
      "execution_count": 25,
      "outputs": [
        {
          "output_type": "stream",
          "name": "stdout",
          "text": [
            "enter a +ve integer  or enter -1 to end the list:55\n",
            "enter a +ve integer  or enter -1 to end the list:55\n",
            "Element already exists\n",
            "enter a +ve integer  or enter -1 to end the list:57\n",
            "enter a +ve integer  or enter -1 to end the list:57\n",
            "Element already exists\n",
            "enter a +ve integer  or enter -1 to end the list:87\n",
            "enter a +ve integer  or enter -1 to end the list:34\n",
            "enter a +ve integer  or enter -1 to end the list:59\n",
            "enter a +ve integer  or enter -1 to end the list:5\n",
            "enter a +ve integer  or enter -1 to end the list:-1\n",
            "enter the element you  want to find57\n",
            "Element is found at index 1\n"
          ]
        }
      ]
    },
    {
      "cell_type": "code",
      "source": [
        "def count_occurrence(list):\n",
        "  dic={}\n",
        "  for i in list:\n",
        "    if i in dic:\n",
        "      dic[i]+=1\n",
        "    else:\n",
        "      dic[i]=1\n",
        "  return dic\n",
        "list=[]\n",
        "while True:\n",
        "  a=int(input(\"enter a +ve integer  or enter -1 to end the list:\"))\n",
        "\n",
        "  if a==-1:\n",
        "    break\n",
        "  list.append(a)\n",
        "print(list)\n",
        "print(count_occurrence(list))\n"
      ],
      "metadata": {
        "colab": {
          "base_uri": "https://localhost:8080/"
        },
        "id": "tPjcdeg_zaJ4",
        "outputId": "9a10cf62-ffd5-4c12-de20-7f18b4090854"
      },
      "execution_count": 32,
      "outputs": [
        {
          "output_type": "stream",
          "name": "stdout",
          "text": [
            "enter a +ve integer  or enter -1 to end the list:54\n",
            "enter a +ve integer  or enter -1 to end the list:545\n",
            "enter a +ve integer  or enter -1 to end the list:54\n",
            "enter a +ve integer  or enter -1 to end the list:54\n",
            "enter a +ve integer  or enter -1 to end the list:48\n",
            "enter a +ve integer  or enter -1 to end the list:45\n",
            "enter a +ve integer  or enter -1 to end the list:45\n",
            "enter a +ve integer  or enter -1 to end the list:74\n",
            "enter a +ve integer  or enter -1 to end the list:45\n",
            "enter a +ve integer  or enter -1 to end the list:24\n",
            "enter a +ve integer  or enter -1 to end the list:45\n",
            "enter a +ve integer  or enter -1 to end the list:-1\n",
            "[54, 545, 54, 54, 48, 45, 45, 74, 45, 24, 45]\n",
            "{54: 3, 545: 1, 48: 1, 45: 4, 74: 1, 24: 1}\n"
          ]
        }
      ]
    },
    {
      "cell_type": "code",
      "source": [
        "animals=(\"tiger\",\"lion\",\"penguin\",\"zebra\",\"monkey\",\"tiger\",\"tiger\")\n",
        "print(animals[2])\n",
        "print(animals[2:])\n",
        "print(animals.index(\"lion\"))\n",
        "print(animals.count(\"tiger\"))\n"
      ],
      "metadata": {
        "colab": {
          "base_uri": "https://localhost:8080/"
        },
        "id": "4hvXDo54hxp8",
        "outputId": "70d6cbce-2510-46e4-d546-48881f31a1f7"
      },
      "execution_count": 10,
      "outputs": [
        {
          "output_type": "stream",
          "name": "stdout",
          "text": [
            "penguin\n",
            "('penguin', 'zebra', 'monkey', 'tiger', 'tiger')\n",
            "1\n",
            "3\n"
          ]
        }
      ]
    },
    {
      "cell_type": "code",
      "source": [
        "set1={1,2,3,4,5,8,9}\n",
        "set2={4,5,9,0,6,7}\n",
        "print(set1 | set2)\n",
        "print(set1 & set2)\n",
        "print(set1-set2)\n",
        "print(set1 ^ set2)\n",
        "print(set1)\n",
        "print(set2)"
      ],
      "metadata": {
        "colab": {
          "base_uri": "https://localhost:8080/"
        },
        "id": "J9MGYFwsjgfJ",
        "outputId": "feaa920b-b9ed-4f41-fe8b-8a5cf18dca07"
      },
      "execution_count": 12,
      "outputs": [
        {
          "output_type": "stream",
          "name": "stdout",
          "text": [
            "{0, 1, 2, 3, 4, 5, 6, 7, 8, 9}\n",
            "{9, 4, 5}\n",
            "{8, 1, 2, 3}\n",
            "{0, 1, 2, 3, 6, 7, 8}\n",
            "{1, 2, 3, 4, 5, 8, 9}\n",
            "{0, 4, 5, 6, 7, 9}\n"
          ]
        }
      ]
    },
    {
      "cell_type": "code",
      "source": [
        "cs_students={\"Vikas\", \"Anil\", \"Ravi\", \"Sara\"}\n",
        "ml_students={\"Ravi\",\"Sara\",\"Priya\",\"Meena\"}\n",
        "print(cs_students | ml_students)\n",
        "print(cs_students- ml_students)\n",
        "print(ml_students - cs_students)\n",
        "print(ml_students ^ cs_students)\n",
        "cs_students.add(\"Aryan\")\n",
        "print(cs_students)\n",
        "cs_students.remove(\"Anil\")\n",
        "print(cs_students)"
      ],
      "metadata": {
        "colab": {
          "base_uri": "https://localhost:8080/"
        },
        "id": "P7e4RuRVkSdY",
        "outputId": "3bc9b040-0090-4df0-d5f5-9242f70319ea"
      },
      "execution_count": 24,
      "outputs": [
        {
          "output_type": "stream",
          "name": "stdout",
          "text": [
            "{'Anil', 'Sara', 'Priya', 'Ravi', 'Meena', 'Vikas'}\n",
            "{'Anil', 'Vikas'}\n",
            "{'Meena', 'Priya'}\n",
            "{'Anil', 'Priya', 'Meena', 'Vikas'}\n",
            "{'Anil', 'Sara', 'Ravi', 'Aryan', 'Vikas'}\n",
            "{'Sara', 'Ravi', 'Aryan', 'Vikas'}\n"
          ]
        }
      ]
    },
    {
      "cell_type": "code",
      "source": [
        "coding_club = set()\n",
        "ml_club = set()\n",
        "\n",
        "# Input Coding Club attendees\n",
        "n1 = int(input(\"Enter number of students in Coding Club: \"))\n",
        "for _ in range(n1):\n",
        "    student = input(\"Enter student name: \")\n",
        "    coding_club.add(student)\n",
        "\n",
        "# Input ML Club attendees\n",
        "n2 = int(input(\"Enter number of students in ML Club: \"))\n",
        "for _ in range(n2):\n",
        "    student = input(\"Enter student name: \")\n",
        "    ml_club.add(student)\n",
        "\n",
        "# Results\n",
        "print(\"\\nAll Unique Students:\", coding_club | ml_club)\n",
        "print(\"Students in Both Clubs:\", coding_club & ml_club)\n",
        "print(\"Only in Coding Club:\", coding_club - ml_club)\n",
        "print(\"Only in ML Club:\", ml_club - coding_club)\n",
        "print(\"In Exactly One Club:\", coding_club ^ ml_club)\n"
      ],
      "metadata": {
        "colab": {
          "base_uri": "https://localhost:8080/"
        },
        "id": "3KrIMuxTnksI",
        "outputId": "566543eb-417e-4fd8-d1d8-3eeea5fc76b2"
      },
      "execution_count": 25,
      "outputs": [
        {
          "output_type": "stream",
          "name": "stdout",
          "text": [
            "Enter number of students in Coding Club: 2\n",
            "Enter student name: vikas \n",
            "Enter student name: rahul\n",
            "Enter number of students in ML Club: 3\n",
            "Enter student name: vikas\n",
            "Enter student name: rajesh\n",
            "Enter student name: priya\n",
            "\n",
            "All Unique Students: {'rajesh', 'priya', 'rahul', 'vikas', 'vikas '}\n",
            "Students in Both Clubs: set()\n",
            "Only in Coding Club: {'rahul', 'vikas '}\n",
            "Only in ML Club: {'rajesh', 'priya', 'vikas'}\n",
            "In Exactly One Club: {'rajesh', 'vikas', 'priya', 'rahul', 'vikas '}\n"
          ]
        }
      ]
    },
    {
      "cell_type": "code",
      "source": [],
      "metadata": {
        "id": "OaaSQAQKoK_2"
      },
      "execution_count": null,
      "outputs": []
    }
  ]
}