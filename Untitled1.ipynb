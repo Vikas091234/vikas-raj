{
  "nbformat": 4,
  "nbformat_minor": 0,
  "metadata": {
    "colab": {
      "provenance": [],
      "mount_file_id": "1CjAqE0LTVhvRAwjoiiPJvJXyA9pW9zIU",
      "authorship_tag": "ABX9TyPMZiTdrkexDpxDH9+spT6d",
      "include_colab_link": true
    },
    "kernelspec": {
      "name": "python3",
      "display_name": "Python 3"
    },
    "language_info": {
      "name": "python"
    }
  },
  "cells": [
    {
      "cell_type": "markdown",
      "metadata": {
        "id": "view-in-github",
        "colab_type": "text"
      },
      "source": [
        "<a href=\"https://colab.research.google.com/github/Vikas091234/vikas-raj/blob/main/Untitled1.ipynb\" target=\"_parent\"><img src=\"https://colab.research.google.com/assets/colab-badge.svg\" alt=\"Open In Colab\"/></a>"
      ]
    },
    {
      "cell_type": "code",
      "execution_count": null,
      "metadata": {
        "id": "AAQsZugEMgOW"
      },
      "outputs": [],
      "source": []
    },
    {
      "cell_type": "code",
      "source": [
        "a= int(input(\" enter a integer :\"))\n",
        "b= int(input(\" enter a integer :\"))\n",
        "print(a+b)\n",
        "print(a*b)\n",
        "print(a/b)\n",
        "print(a%b)"
      ],
      "metadata": {
        "colab": {
          "base_uri": "https://localhost:8080/"
        },
        "id": "u_w8zfC-Nf_h",
        "outputId": "6b788eb7-900f-4e12-87a8-1a2dba8d85e0"
      },
      "execution_count": null,
      "outputs": [
        {
          "output_type": "stream",
          "name": "stdout",
          "text": [
            " enter a integer :5\n",
            " enter a integer :6\n",
            "11\n",
            "30\n",
            "0.8333333333333334\n",
            "5\n"
          ]
        }
      ]
    },
    {
      "cell_type": "code",
      "source": [],
      "metadata": {
        "id": "u4yoMnT8N7df"
      },
      "execution_count": null,
      "outputs": []
    },
    {
      "cell_type": "code",
      "source": [
        "print(\"Hello World Welcome to Python\")"
      ],
      "metadata": {
        "colab": {
          "base_uri": "https://localhost:8080/"
        },
        "id": "7o245BMRMj5J",
        "outputId": "b39c299c-5612-40d1-d28f-92109e54cbf6"
      },
      "execution_count": null,
      "outputs": [
        {
          "output_type": "stream",
          "name": "stdout",
          "text": [
            "Hello World Welcome to Python\n"
          ]
        }
      ]
    },
    {
      "cell_type": "code",
      "source": [
        "name =input(\"WHats your name?\")\n",
        "print(\"Welcome \" + name + \"!\")"
      ],
      "metadata": {
        "colab": {
          "base_uri": "https://localhost:8080/"
        },
        "id": "d97E_CicMxjY",
        "outputId": "b2c7407a-2a2d-4243-a4eb-812d3b78b631"
      },
      "execution_count": null,
      "outputs": [
        {
          "output_type": "stream",
          "name": "stdout",
          "text": [
            "WHats your name?h\n",
            "Welcome h!\n"
          ]
        }
      ]
    },
    {
      "cell_type": "code",
      "source": [
        "num = int(input(\" enter a positive integer:\"))\n",
        "for i in range(1,11i sam using ):\n",
        "        print(num,\"X\",i,\"=\",num*i )"
      ],
      "metadata": {
        "colab": {
          "base_uri": "https://localhost:8080/"
        },
        "id": "ia_PGj3hN9nd",
        "outputId": "d6f70629-30ff-487f-f99e-7c03c6ae5ed5"
      },
      "execution_count": null,
      "outputs": [
        {
          "output_type": "stream",
          "name": "stdout",
          "text": [
            " enter a positive integer:5\n",
            "5 X 1 = 5\n",
            "5 X 2 = 10\n",
            "5 X 3 = 15\n",
            "5 X 4 = 20\n",
            "5 X 5 = 25\n",
            "5 X 6 = 30\n",
            "5 X 7 = 35\n",
            "5 X 8 = 40\n",
            "5 X 9 = 45\n",
            "5 X 10 = 50\n"
          ]
        }
      ]
    },
    {
      "cell_type": "code",
      "source": [
        "from pickle import APPEND\n",
        "marks= [80,70,99,89,87,67,95,57]\n",
        "marks= sorted(marks)\n",
        "print(\"Marks List:\",marks)\n",
        "print(\"Highest Marks:\",marks[-1])\n",
        "print(\"Lowest Marks:\",marks[0])\n",
        "avg= sum(marks)/len(marks)\n",
        "print(\"Average Marks:\",avg)\n",
        "print(max(marks))\n",
        "marks.append(35)\n",
        "marks[3]=78\n",
        "print(marks)"
      ],
      "metadata": {
        "colab": {
          "base_uri": "https://localhost:8080/"
        },
        "id": "cUA2GXELV1NM",
        "outputId": "cb94b93b-3285-4718-9e01-37e66f7b3264"
      },
      "execution_count": null,
      "outputs": [
        {
          "output_type": "stream",
          "name": "stdout",
          "text": [
            "Marks List: [57, 67, 70, 80, 87, 89, 95, 99]\n",
            "Highest Marks: 99\n",
            "Lowest Marks: 57\n",
            "Average Marks: 80.5\n",
            "99\n",
            "[57, 67, 70, 78, 87, 89, 95, 99, 35]\n"
          ]
        }
      ]
    },
    {
      "cell_type": "code",
      "source": [],
      "metadata": {
        "id": "xMV28Zh2x80t"
      },
      "execution_count": null,
      "outputs": []
    },
    {
      "cell_type": "code",
      "source": [
        "marks = [80, 70, 99, 89, 87, 67, 95, 57, 35]\n",
        "\n",
        "for i in marks:\n",
        "  if i>82:\n",
        "\n",
        "     print(\"Marks:\",i)\n",
        "for i in range(len(marks)):\n",
        "    print(f\"Subject {i+1}: {marks[i]}\")\n",
        "total= 0\n",
        "for i in marks:\n",
        "  total+=i\n",
        "  avg= total/len(marks)\n",
        "print(\"Total Marks:\",total)\n",
        "print(\"Average Marks:\",avg)\n"
      ],
      "metadata": {
        "colab": {
          "base_uri": "https://localhost:8080/"
        },
        "id": "LPcjTw2EWsU1",
        "outputId": "5ece24bb-0e61-423c-835d-92bd27339ac6"
      },
      "execution_count": null,
      "outputs": [
        {
          "output_type": "stream",
          "name": "stdout",
          "text": [
            "Marks: 99\n",
            "Marks: 89\n",
            "Marks: 87\n",
            "Marks: 95\n",
            "Subject 1: 80\n",
            "Subject 2: 70\n",
            "Subject 3: 99\n",
            "Subject 4: 89\n",
            "Subject 5: 87\n",
            "Subject 6: 67\n",
            "Subject 7: 95\n",
            "Subject 8: 57\n",
            "Subject 9: 35\n",
            "Total Marks: 679\n",
            "Average Marks: 75.44444444444444\n"
          ]
        }
      ]
    },
    {
      "cell_type": "code",
      "source": [
        "marks = [80, 70, 99, 89, 87, 67, 95, 57, 35]\n",
        "count=0\n",
        "for i in marks:\n",
        "  if i>82:\n",
        "    count+=1\n",
        "print(count)\n",
        "a=[]\n",
        "for i in marks:\n",
        "  if i>75:\n",
        "     a.append(i)\n",
        "a.sort()\n",
        "print(a)"
      ],
      "metadata": {
        "colab": {
          "base_uri": "https://localhost:8080/"
        },
        "id": "v5LbNPkqx_Xg",
        "outputId": "6f036f53-fc92-4b33-9c50-7e67edb0c1c9"
      },
      "execution_count": null,
      "outputs": [
        {
          "output_type": "stream",
          "name": "stdout",
          "text": [
            "4\n",
            "[80, 87, 89, 95, 99]\n"
          ]
        }
      ]
    },
    {
      "cell_type": "code",
      "source": [
        "def greet():\n",
        "    print(\"Hello! Welcome to Python functions.\")\n",
        "\n",
        "greet()\n"
      ],
      "metadata": {
        "colab": {
          "base_uri": "https://localhost:8080/"
        },
        "id": "OAzS7PF4zn0W",
        "outputId": "8f03cf92-ffe6-4b4d-891f-2e96585d6592"
      },
      "execution_count": null,
      "outputs": [
        {
          "output_type": "stream",
          "name": "stdout",
          "text": [
            "Hello! Welcome to Python functions.\n"
          ]
        }
      ]
    },
    {
      "cell_type": "code",
      "source": [
        "def square():\n",
        "  square=num*num\n",
        "  return square\n",
        "num= int(input(\"enter a number:\"))\n",
        "square=square(num)\n",
        "print(square)"
      ],
      "metadata": {
        "colab": {
          "base_uri": "https://localhost:8080/"
        },
        "id": "NjSZHDF_0Di4",
        "outputId": "62a83e4d-3997-4e6c-ac4d-e1edb1044d04"
      },
      "execution_count": null,
      "outputs": [
        {
          "output_type": "stream",
          "name": "stdout",
          "text": [
            "enter a number:5\n",
            "25\n"
          ]
        }
      ]
    },
    {
      "cell_type": "code",
      "source": [
        "def add(a,b):\n",
        "  return a+b\n",
        "a= int(input(\"enter a number:\"))\n",
        "b= int(input(\"enter a number:\"))\n",
        "sum=add(a,b)\n",
        "print(sum)"
      ],
      "metadata": {
        "colab": {
          "base_uri": "https://localhost:8080/"
        },
        "id": "qTtsVU_81X26",
        "outputId": "26691263-8008-4c88-d253-114ca185a715"
      },
      "execution_count": null,
      "outputs": [
        {
          "output_type": "stream",
          "name": "stdout",
          "text": [
            "enter a number:5\n",
            "enter a number:6\n",
            "11\n"
          ]
        }
      ]
    },
    {
      "cell_type": "code",
      "source": [
        "def even_checker(num):\n",
        "    if num % 2 == 0:\n",
        "        return True\n",
        "    else:\n",
        "        return False\n",
        "\n",
        "num = int(input(\"Enter a number: \"))\n",
        "print(\"The entered number is even:\", even_checker(num))\n",
        "\n",
        "\n"
      ],
      "metadata": {
        "colab": {
          "base_uri": "https://localhost:8080/"
        },
        "id": "Ht9B_HaQ1lEN",
        "outputId": "177e62ca-9049-42f3-dfc7-936ff073b6d9"
      },
      "execution_count": null,
      "outputs": [
        {
          "output_type": "stream",
          "name": "stdout",
          "text": [
            "Enter a number: 5\n",
            "The entered number is even: False\n"
          ]
        }
      ]
    },
    {
      "cell_type": "code",
      "source": [
        "def get_grade(marks):\n",
        "    if marks >= 90:\n",
        "        return \"A\"\n",
        "    elif marks >= 80:\n",
        "        return \"B\"\n",
        "    elif marks >= 70:\n",
        "        return \"C\"\n",
        "    elif marks >= 60:\n",
        "        return \"D\"\n",
        "    else:\n",
        "        return \"F\"\n",
        "\n",
        "marks = int(input(\"Enter your marks: \"))\n",
        "grade = get_grade(marks)\n",
        "print(\"Your grade is:\", grade)"
      ],
      "metadata": {
        "colab": {
          "base_uri": "https://localhost:8080/"
        },
        "id": "t5VeQYFp2sOL",
        "outputId": "341006a3-78c6-47a1-cac3-a421401af0a5"
      },
      "execution_count": null,
      "outputs": [
        {
          "output_type": "stream",
          "name": "stdout",
          "text": [
            "Enter your marks: 57\n",
            "Your grade is: F\n"
          ]
        }
      ]
    },
    {
      "cell_type": "code",
      "source": [
        "def filter_even(numbers):\n",
        "  even_number=[]\n",
        "  for i in numbers:\n",
        "    if i %2==0:\n",
        "      even_number.append(i)\n",
        "  return even_number\n",
        "numbers=[1,2,3,4,5,6,7,8,9,10]\n",
        "even_number=filter_even(numbers)\n",
        "print(even_number)"
      ],
      "metadata": {
        "colab": {
          "base_uri": "https://localhost:8080/"
        },
        "id": "-9wMhHwW3HgW",
        "outputId": "fd9b929b-a95e-4b6f-b4d9-19e85cd87200"
      },
      "execution_count": null,
      "outputs": [
        {
          "output_type": "stream",
          "name": "stdout",
          "text": [
            "[2, 4, 6, 8, 10]\n"
          ]
        }
      ]
    },
    {
      "cell_type": "code",
      "source": [
        "list=[]\n",
        "i=0\n",
        "while True:\n",
        "  a=int(input(\"Enter the entries of the list:/ enter -100 if all the entries have been entered\"))\n",
        "  list.append(a)\n",
        "  if a==-100:\n",
        "    break\n",
        "list.sort()\n",
        "Top_3=list[-3:]\n",
        "print(Top_3)"
      ],
      "metadata": {
        "colab": {
          "base_uri": "https://localhost:8080/"
        },
        "id": "vlyWOnma4bsY",
        "outputId": "5ffff9d0-c8b9-437c-8add-4faae411a01c"
      },
      "execution_count": null,
      "outputs": [
        {
          "output_type": "stream",
          "name": "stdout",
          "text": [
            "Enter the entries of the list:/ enter -100 if all the entries have been entered45\n",
            "Enter the entries of the list:/ enter -100 if all the entries have been entered15\n",
            "Enter the entries of the list:/ enter -100 if all the entries have been entered56\n",
            "Enter the entries of the list:/ enter -100 if all the entries have been entered68\n",
            "Enter the entries of the list:/ enter -100 if all the entries have been entered52\n",
            "Enter the entries of the list:/ enter -100 if all the entries have been entered86\n",
            "Enter the entries of the list:/ enter -100 if all the entries have been entered79\n",
            "Enter the entries of the list:/ enter -100 if all the entries have been entered47\n",
            "Enter the entries of the list:/ enter -100 if all the entries have been entered15\n",
            "Enter the entries of the list:/ enter -100 if all the entries have been entered35\n",
            "Enter the entries of the list:/ enter -100 if all the entries have been entered54\n",
            "Enter the entries of the list:/ enter -100 if all the entries have been entered15\n",
            "Enter the entries of the list:/ enter -100 if all the entries have been entered25\n",
            "Enter the entries of the list:/ enter -100 if all the entries have been entered56\n",
            "Enter the entries of the list:/ enter -100 if all the entries have been entered58\n",
            "Enter the entries of the list:/ enter -100 if all the entries have been entered5455255\n",
            "Enter the entries of the list:/ enter -100 if all the entries have been entered-100\n",
            "[79, 86, 5455255]\n"
          ]
        }
      ]
    },
    {
      "cell_type": "code",
      "source": [
        "def count_vowels(string):\n",
        "  vowels=\"aeiou\"\n",
        "  count=0\n",
        "  for i in string:\n",
        "    if i in vowels:\n",
        "      count+=1\n",
        "  return count\n",
        "string=input(\"enter a string:\").lower()\n",
        "count=count_vowels(string)\n",
        "print(count)"
      ],
      "metadata": {
        "colab": {
          "base_uri": "https://localhost:8080/"
        },
        "id": "O7MepfIY7BdO",
        "outputId": "6434c7a0-fd27-435b-dcc2-09e50e9a48c1"
      },
      "execution_count": null,
      "outputs": [
        {
          "output_type": "stream",
          "name": "stdout",
          "text": [
            "enter a string:Hi I am Vikas Raj, I am studying in IITM , its been a really fun coding till now \n",
            "24\n"
          ]
        }
      ]
    },
    {
      "cell_type": "markdown",
      "source": [],
      "metadata": {
        "id": "0LlGl1K5zpOU"
      }
    },
    {
      "cell_type": "code",
      "source": [
        "def Five_multiples(num):\n",
        "  list=[]\n",
        "  for i in range(1,6):\n",
        "    a=i*num\n",
        "    list.append(a)\n",
        "  return list\n",
        "num=int(input(\"Enter a number: \"))\n",
        "print(Five_multiples(num))"
      ],
      "metadata": {
        "colab": {
          "base_uri": "https://localhost:8080/"
        },
        "id": "zHRirN6d8I8f",
        "outputId": "0bc1274e-5558-44a7-9559-420ee3443d4f"
      },
      "execution_count": null,
      "outputs": [
        {
          "output_type": "stream",
          "name": "stdout",
          "text": [
            "Enter a number: 5\n",
            "[5, 10, 15, 20, 25]\n"
          ]
        }
      ]
    },
    {
      "cell_type": "code",
      "source": [
        "greatings = \"hello\"\n",
        "name=\"world\"\n",
        "print(greatings+\" \"+ name)\n",
        "message = f\"{greatings} {name}\"\n",
        "print(message[2:8])"
      ],
      "metadata": {
        "colab": {
          "base_uri": "https://localhost:8080/"
        },
        "id": "a03gpSFqvPH4",
        "outputId": "7d827c02-6a1a-4903-ac19-f5591398b055"
      },
      "execution_count": 2,
      "outputs": [
        {
          "output_type": "stream",
          "name": "stdout",
          "text": [
            "hello world\n",
            "llo wo\n"
          ]
        }
      ]
    },
    {
      "cell_type": "code",
      "source": [
        "text=\"I love timepass i do it a lot \"\n",
        "print(text)\n",
        "print(text.count(\"i\"))\n",
        "print(text.lower())\n",
        "print(text.upper())\n",
        "print(text.title())\n",
        "print(text.replace(\"love\",\"hate\"))\n",
        "print(text.find(\"timepass\"))\n",
        "print(\"do\" in text)\n",
        "print(text.split())\n",
        "print(text.strip())"
      ],
      "metadata": {
        "colab": {
          "base_uri": "https://localhost:8080/"
        },
        "id": "62UzrqJLvWYs",
        "outputId": "0b3a2e28-662b-43ea-ea11-28540e44475b"
      },
      "execution_count": 7,
      "outputs": [
        {
          "output_type": "stream",
          "name": "stdout",
          "text": [
            "I love timepass i do it a lot \n",
            "3\n",
            "i love timepass i do it a lot \n",
            "I LOVE TIMEPASS I DO IT A LOT \n",
            "I Love Timepass I Do It A Lot \n",
            "I hate timepass i do it a lot \n",
            "7\n",
            "True\n",
            "['I', 'love', 'timepass', 'i', 'do', 'it', 'a', 'lot']\n",
            "I love timepass i do it a lot\n"
          ]
        }
      ]
    },
    {
      "cell_type": "code",
      "source": [
        "sentence = \" I am learning Python today\"\n",
        "print(sentence)\n",
        "sentence.upper()\n",
        "print(sentence.upper())\n",
        "sentence.replace(\"today\",\"now\")\n",
        "print(sentence.replace(\"today\",\"now\"))"
      ],
      "metadata": {
        "colab": {
          "base_uri": "https://localhost:8080/"
        },
        "id": "P6AVx-KVxc0B",
        "outputId": "b06534be-569a-4141-9a93-5bbd3eb47b44"
      },
      "execution_count": 9,
      "outputs": [
        {
          "output_type": "stream",
          "name": "stdout",
          "text": [
            " I am learning Python today\n",
            " I AM LEARNING PYTHON TODAY\n",
            " I am learning Python now\n"
          ]
        }
      ]
    },
    {
      "cell_type": "code",
      "source": [
        "def palindrome(string):\n",
        "  if string==string[::-1]:\n",
        "    return True\n",
        "  else:\n",
        "    return False\n",
        "string=input(\"enter a string :\")\n",
        "\n",
        "string=string.lower()\n",
        "print(string)\n",
        "print(\"your string is a palindrome:\", palindrome(string))\n",
        "\n"
      ],
      "metadata": {
        "colab": {
          "base_uri": "https://localhost:8080/"
        },
        "id": "VyydjcS_yIsP",
        "outputId": "d8ff3562-9580-427d-d419-8466e81bccec"
      },
      "execution_count": 27,
      "outputs": [
        {
          "output_type": "stream",
          "name": "stdout",
          "text": [
            "enter a string :1234321\n",
            "1234321\n",
            "your string is a palindrome: True\n"
          ]
        }
      ]
    },
    {
      "cell_type": "code",
      "source": [
        "student={\n",
        "    \"name\":\"Arnav\", \"age\":\"23\",\n",
        "    \"marks\":[86,76,98],\"is_passed\": True\n",
        "}\n",
        "print(student[\"name\"])\n",
        "print(student[\"marks\"][2])\n",
        "\n",
        "student[\"college\"]= \"IITMadras\"\n",
        "student[\"age\"]= \"25\"\n",
        "del student[\"is_passed\"]\n",
        "for key, value in student.items():\n",
        "    print(key,\":\",value)"
      ],
      "metadata": {
        "colab": {
          "base_uri": "https://localhost:8080/"
        },
        "id": "Y1N9gyrJl5YI",
        "outputId": "2ffc6dee-dd44-4b7b-8fe8-5cf008074c61"
      },
      "execution_count": 1,
      "outputs": [
        {
          "output_type": "stream",
          "name": "stdout",
          "text": [
            "Arnav\n",
            "98\n",
            "name : Arnav\n",
            "age : 25\n",
            "marks : [86, 76, 98]\n",
            "college : IITMadras\n"
          ]
        }
      ]
    },
    {
      "cell_type": "code",
      "source": [],
      "metadata": {
        "id": "vz7rT1YOmABz"
      },
      "execution_count": null,
      "outputs": []
    }
  ]
}